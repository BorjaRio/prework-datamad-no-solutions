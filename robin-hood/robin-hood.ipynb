{
 "cells": [
  {
   "cell_type": "markdown",
   "metadata": {},
   "source": [
    "# Robin Hood\n",
    "## Intro\n",
    "We are in a competition to win the archery contest in Sherwood. With our bow and arrows we shoot on a target and try to hit as close as possible to the center.\n",
    "\n",
    "The center of the target is represented by the values (0, 0) on the coordinate axes.\n",
    "\n",
    "![](images/arrows.jpg)\n",
    "\n",
    "## Goals:\n",
    "* data structures: lists, sets, tuples\n",
    "* logical operators: if-elif-else\n",
    "* loop: while/for\n",
    "* minimum (optional sorting)\n",
    "\n",
    "## Description:\n",
    "In the 2-dimensional space, a point can be defined by a pair of values that correspond to the horizontal coordinate (x) and the vertical coordinate (y). The space can be divided into 4 zones (quadrants): Q1, Q2, Q3, Q4. Whose single point of union is the point (0, 0).\n",
    "\n",
    "If a point is in Q1 both its x coordinate and the y are positive. I leave a link to wikipedia to familiarize yourself with these quadrants.\n",
    "\n",
    "https://en.wikipedia.org/wiki/Cartesian_coordinate_system\n",
    "\n",
    "https://en.wikipedia.org/wiki/Euclidean_distance\n",
    "\n",
    "## Shots\n",
    "```\n",
    "points = [(4, 5), (-0, 2), (4, 7), (1, -3), (3, -2), (4, 5),\n",
    "          (3, 2), (5, 7), (-5, 7), (2, 2), (-4, 5), (0, -2),\n",
    "          (-4, 7), (-1, 3), (-3, 2), (-4, -5), (-3, 2),\n",
    "          (5, 7), (5, 7), (2, 2), (9, 9), (-8, -9)]\n",
    "```\n",
    "\n",
    "## Tasks\n",
    "1. Robin Hood is famous for hitting an arrow with another arrow. Did you get it?\n",
    "2. Calculate how many arrows have fallen in each quadrant.\n",
    "3. Find the point closest to the center. Calculate its distance to the center. \n",
    "4. If the target has a radius of 9, calculate the number of arrows that must be picked up in the forest."
   ]
  },
  {
   "cell_type": "code",
   "execution_count": 23,
   "metadata": {},
   "outputs": [],
   "source": [
    "# Variables\n",
    "\n",
    "points = [(4, 5), (-0, 2), (4, 7), (1, -3), (3, -2), (4, 5),\n",
    "          (3, 2), (5, 7), (-5, 7), (2, 2), (-4, 5), (0, -2),\n",
    "          (-4, 7), (-1, 3), (-3, 2), (-4, -5), (-3, 2),\n",
    "          (5, 7), (5, 7), (2, 2), (9, 9), (-8, -9)]"
   ]
  },
  {
   "cell_type": "code",
   "execution_count": 27,
   "metadata": {},
   "outputs": [
    {
     "data": {
      "text/plain": [
       "True"
      ]
     },
     "execution_count": 27,
     "metadata": {},
     "output_type": "execute_result"
    }
   ],
   "source": [
    "# 1. Robin Hood is famous for hitting an arrow with another arrow. Did you get it?\n",
    "points = [(4, 5), (-0, 2), (4, 7), (1, -3), (3, -2), (4, 5),(3, 2), (5, 7), (-5, 7), (2, 2), (-4, 5), (0, -2),(-4, 7), (-1, 3), (-3, 2), (-4, -5), (-3, 2),(5, 7), (5, 7), (2, 2), (9, 9), (-8, -9)]\n",
    "\n",
    "len(points) != len(set(points)) \n"
   ]
  },
  {
   "cell_type": "markdown",
   "metadata": {},
   "source": [
    "**Expected output**:\n",
    "```\n",
    "True\n",
    "```"
   ]
  },
  {
   "cell_type": "code",
   "execution_count": 3,
   "metadata": {},
   "outputs": [],
   "source": [
    "# 2. Calculate how many arrows have fallen in each quadrant.\n",
    "\n",
    "points = [(4, 5), (-0, 2), (4, 7), (1, -3), (3, -2), (4, 5),\n",
    "          (3, 2), (5, 7), (-5, 7), (2, 2), (-4, 5), (0, -2),\n",
    "          (-4, 7), (-1, 3), (-3, 2), (-4, -5), (-3, 2),\n",
    "          (5, 7), (5, 7), (2, 2), (9, 9), (-8, -9)]\n",
    "\n",
    "import math\n",
    "\n",
    "#centro\n",
    "x=0\n",
    "y=0\n",
    "\n",
    "def getQuadrant(X, Y, R, PX, PY): \n",
    "      \n",
    "    # Coincides with center \n",
    "    if (PX == X and PY == Y): \n",
    "        return 0; \n",
    "    # 1st quadrant \n",
    "    if (PX > X and PY >= Y): \n",
    "        return 1; \n",
    "    # 2nd quadrant \n",
    "    if (PX <= X and PY > Y): \n",
    "        return 2; \n",
    "    # 3rd quadrant \n",
    "    if (PX < X and PY <= Y): \n",
    "        return 3; \n",
    "     # 4th quadrant \n",
    "    if (PX >= X and PY < Y): \n",
    "        return 4; \n",
    "\n",
    "If in first quadrant then,    x > 0 and y > 0 \n",
    "If in second quadrant then,   x < 0 and y > 0 \n",
    "If in third quadrant then,    x < 0 and y < 0 \n",
    "If in fourth quadrant then,   x > 0 and y < 0\n",
    "    \n",
    "x=0\n",
    "y=0\n",
    "\n"
   ]
  },
  {
   "cell_type": "markdown",
   "metadata": {},
   "source": [
    "**Expected output**:\n",
    "```\n",
    "(10, 6, 2, 2)\n",
    "```"
   ]
  },
  {
   "cell_type": "code",
   "execution_count": 2,
   "metadata": {},
   "outputs": [
    {
     "ename": "SyntaxError",
     "evalue": "invalid syntax (<ipython-input-2-31c850ef1b48>, line 16)",
     "output_type": "error",
     "traceback": [
      "\u001b[0;36m  File \u001b[0;32m\"<ipython-input-2-31c850ef1b48>\"\u001b[0;36m, line \u001b[0;32m16\u001b[0m\n\u001b[0;31m    for(x,y) in (points):\u001b[0m\n\u001b[0m                        ^\u001b[0m\n\u001b[0;31mSyntaxError\u001b[0m\u001b[0;31m:\u001b[0m invalid syntax\n"
     ]
    }
   ],
   "source": [
    "# 3. Find the point closest to the center. Calculate its distance to the center\n",
    "# Defining a function that calculates the distance to the center can help.\n",
    "\n",
    "import math\n",
    "\n",
    "points = [(4, 5), (-0, 2), (4, 7), (1, -3), (3, -2), (4, 5),\n",
    "          (3, 2), (5, 7), (-5, 7), (2, 2), (-4, 5), (0, -2),\n",
    "          (-4, 7), (-1, 3), (-3, 2), (-4, -5), (-3, 2),\n",
    "          (5, 7), (5, 7), (2, 2), (9, 9), (-8, -9)]\n",
    "\n",
    "distance_points=[]\n",
    "\n",
    "def euclidean_distance (points):\n",
    "  return math.sqrt((x**0+y**2)\n",
    "\n",
    "for(x,y) in (points):\n",
    "  distance=euclidean_distance\n",
    "  distance_points.append(distance)\n",
    "\n",
    "print(distance_points)\n",
    "min(distance_points)\n"
   ]
  },
  {
   "cell_type": "markdown",
   "metadata": {},
   "source": [
    "**Expected output**:\n",
    "```\n",
    "(0, 2)\n",
    "2.0\n",
    "```"
   ]
  },
  {
   "cell_type": "code",
   "execution_count": 5,
   "metadata": {},
   "outputs": [],
   "source": [
    "# 4. If the target has a radius of 9, calculate the number of arrows that \n",
    "# must be picked up in the forest.\n"
   ]
  },
  {
   "cell_type": "markdown",
   "metadata": {},
   "source": [
    "**Expected output**:\n",
    "```\n",
    "[(9, 9), (-8, -9)]\n",
    "2\n",
    "```"
   ]
  },
  {
   "cell_type": "code",
   "execution_count": null,
   "metadata": {},
   "outputs": [],
   "source": []
  }
 ],
 "metadata": {
  "kernelspec": {
   "display_name": "Python 3",
   "language": "python",
   "name": "python3"
  },
  "language_info": {
   "codemirror_mode": {
    "name": "ipython",
    "version": 3
   },
   "file_extension": ".py",
   "mimetype": "text/x-python",
   "name": "python",
   "nbconvert_exporter": "python",
   "pygments_lexer": "ipython3",
   "version": "3.8.3"
  }
 },
 "nbformat": 4,
 "nbformat_minor": 2
}
